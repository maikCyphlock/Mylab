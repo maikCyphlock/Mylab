{
  "nbformat": 4,
  "nbformat_minor": 0,
  "metadata": {
    "colab": {
      "provenance": [],
      "include_colab_link": true
    },
    "kernelspec": {
      "name": "python3",
      "display_name": "Python 3"
    },
    "language_info": {
      "name": "python"
    }
  },
  "cells": [
    {
      "cell_type": "markdown",
      "metadata": {
        "id": "view-in-github",
        "colab_type": "text"
      },
      "source": [
        "<a href=\"https://colab.research.google.com/github/maikCyphlock/Mylab/blob/main/whisper-faslk.ipynb\" target=\"_parent\"><img src=\"https://colab.research.google.com/assets/colab-badge.svg\" alt=\"Open In Colab\"/></a>"
      ]
    },
    {
      "cell_type": "code",
      "source": [
        "!pip install git+https://github.com/sanchit-gandhi/whisper-jax.git\n",
        "\n",
        "!pip install flask-ngrok\n"
      ],
      "metadata": {
        "id": "ffEQWv1eH-FP",
        "outputId": "df98c07a-1943-4f0d-b51a-a99240e77c44",
        "colab": {
          "base_uri": "https://localhost:8080/"
        }
      },
      "execution_count": 2,
      "outputs": [
        {
          "output_type": "stream",
          "name": "stdout",
          "text": [
            "Looking in indexes: https://pypi.org/simple, https://us-python.pkg.dev/colab-wheels/public/simple/\n",
            "Collecting git+https://github.com/sanchit-gandhi/whisper-jax.git\n",
            "  Cloning https://github.com/sanchit-gandhi/whisper-jax.git to /tmp/pip-req-build-pbtn1ww6\n",
            "  Running command git clone --filter=blob:none --quiet https://github.com/sanchit-gandhi/whisper-jax.git /tmp/pip-req-build-pbtn1ww6\n",
            "  Resolved https://github.com/sanchit-gandhi/whisper-jax.git to commit 68b658ffe7bf5ab4ea01a78e3b1a9c207db3e144\n",
            "  Installing build dependencies ... \u001b[?25l\u001b[?25hdone\n",
            "  Getting requirements to build wheel ... \u001b[?25l\u001b[?25hdone\n",
            "  Preparing metadata (pyproject.toml) ... \u001b[?25l\u001b[?25hdone\n",
            "Requirement already satisfied: transformers>=4.27.4 in /usr/local/lib/python3.9/dist-packages (from whisper-jax==0.0.1) (4.28.1)\n",
            "Requirement already satisfied: flax in /usr/local/lib/python3.9/dist-packages (from whisper-jax==0.0.1) (0.6.8)\n",
            "Requirement already satisfied: requests in /usr/local/lib/python3.9/dist-packages (from transformers>=4.27.4->whisper-jax==0.0.1) (2.27.1)\n",
            "Requirement already satisfied: tokenizers!=0.11.3,<0.14,>=0.11.1 in /usr/local/lib/python3.9/dist-packages (from transformers>=4.27.4->whisper-jax==0.0.1) (0.13.3)\n",
            "Requirement already satisfied: regex!=2019.12.17 in /usr/local/lib/python3.9/dist-packages (from transformers>=4.27.4->whisper-jax==0.0.1) (2022.10.31)\n",
            "Requirement already satisfied: pyyaml>=5.1 in /usr/local/lib/python3.9/dist-packages (from transformers>=4.27.4->whisper-jax==0.0.1) (6.0)\n",
            "Requirement already satisfied: tqdm>=4.27 in /usr/local/lib/python3.9/dist-packages (from transformers>=4.27.4->whisper-jax==0.0.1) (4.65.0)\n",
            "Requirement already satisfied: packaging>=20.0 in /usr/local/lib/python3.9/dist-packages (from transformers>=4.27.4->whisper-jax==0.0.1) (23.1)\n",
            "Requirement already satisfied: numpy>=1.17 in /usr/local/lib/python3.9/dist-packages (from transformers>=4.27.4->whisper-jax==0.0.1) (1.22.4)\n",
            "Requirement already satisfied: filelock in /usr/local/lib/python3.9/dist-packages (from transformers>=4.27.4->whisper-jax==0.0.1) (3.11.0)\n",
            "Requirement already satisfied: huggingface-hub<1.0,>=0.11.0 in /usr/local/lib/python3.9/dist-packages (from transformers>=4.27.4->whisper-jax==0.0.1) (0.14.1)\n",
            "Requirement already satisfied: rich>=11.1 in /usr/local/lib/python3.9/dist-packages (from flax->whisper-jax==0.0.1) (13.3.4)\n",
            "Requirement already satisfied: typing-extensions>=4.1.1 in /usr/local/lib/python3.9/dist-packages (from flax->whisper-jax==0.0.1) (4.5.0)\n",
            "Requirement already satisfied: jax>=0.4.2 in /usr/local/lib/python3.9/dist-packages (from flax->whisper-jax==0.0.1) (0.4.8)\n",
            "Requirement already satisfied: orbax in /usr/local/lib/python3.9/dist-packages (from flax->whisper-jax==0.0.1) (0.1.7)\n",
            "Requirement already satisfied: msgpack in /usr/local/lib/python3.9/dist-packages (from flax->whisper-jax==0.0.1) (1.0.5)\n",
            "Requirement already satisfied: tensorstore in /usr/local/lib/python3.9/dist-packages (from flax->whisper-jax==0.0.1) (0.1.35)\n",
            "Requirement already satisfied: optax in /usr/local/lib/python3.9/dist-packages (from flax->whisper-jax==0.0.1) (0.1.4)\n",
            "Requirement already satisfied: fsspec in /usr/local/lib/python3.9/dist-packages (from huggingface-hub<1.0,>=0.11.0->transformers>=4.27.4->whisper-jax==0.0.1) (2023.4.0)\n",
            "Requirement already satisfied: opt-einsum in /usr/local/lib/python3.9/dist-packages (from jax>=0.4.2->flax->whisper-jax==0.0.1) (3.3.0)\n",
            "Requirement already satisfied: scipy>=1.7 in /usr/local/lib/python3.9/dist-packages (from jax>=0.4.2->flax->whisper-jax==0.0.1) (1.10.1)\n",
            "Requirement already satisfied: ml-dtypes>=0.0.3 in /usr/local/lib/python3.9/dist-packages (from jax>=0.4.2->flax->whisper-jax==0.0.1) (0.1.0)\n",
            "Requirement already satisfied: markdown-it-py<3.0.0,>=2.2.0 in /usr/local/lib/python3.9/dist-packages (from rich>=11.1->flax->whisper-jax==0.0.1) (2.2.0)\n",
            "Requirement already satisfied: pygments<3.0.0,>=2.13.0 in /usr/local/lib/python3.9/dist-packages (from rich>=11.1->flax->whisper-jax==0.0.1) (2.14.0)\n",
            "Requirement already satisfied: chex>=0.1.5 in /usr/local/lib/python3.9/dist-packages (from optax->flax->whisper-jax==0.0.1) (0.1.7)\n",
            "Requirement already satisfied: jaxlib>=0.1.37 in /usr/local/lib/python3.9/dist-packages (from optax->flax->whisper-jax==0.0.1) (0.4.7+cuda11.cudnn86)\n",
            "Requirement already satisfied: absl-py>=0.7.1 in /usr/local/lib/python3.9/dist-packages (from optax->flax->whisper-jax==0.0.1) (1.4.0)\n",
            "Requirement already satisfied: nest_asyncio in /usr/local/lib/python3.9/dist-packages (from orbax->flax->whisper-jax==0.0.1) (1.5.6)\n",
            "Requirement already satisfied: importlib_resources in /usr/local/lib/python3.9/dist-packages (from orbax->flax->whisper-jax==0.0.1) (5.12.0)\n",
            "Requirement already satisfied: cached_property in /usr/local/lib/python3.9/dist-packages (from orbax->flax->whisper-jax==0.0.1) (1.5.2)\n",
            "Requirement already satisfied: etils in /usr/local/lib/python3.9/dist-packages (from orbax->flax->whisper-jax==0.0.1) (1.2.0)\n",
            "Requirement already satisfied: urllib3<1.27,>=1.21.1 in /usr/local/lib/python3.9/dist-packages (from requests->transformers>=4.27.4->whisper-jax==0.0.1) (1.26.15)\n",
            "Requirement already satisfied: charset-normalizer~=2.0.0 in /usr/local/lib/python3.9/dist-packages (from requests->transformers>=4.27.4->whisper-jax==0.0.1) (2.0.12)\n",
            "Requirement already satisfied: idna<4,>=2.5 in /usr/local/lib/python3.9/dist-packages (from requests->transformers>=4.27.4->whisper-jax==0.0.1) (3.4)\n",
            "Requirement already satisfied: certifi>=2017.4.17 in /usr/local/lib/python3.9/dist-packages (from requests->transformers>=4.27.4->whisper-jax==0.0.1) (2022.12.7)\n",
            "Requirement already satisfied: dm-tree>=0.1.5 in /usr/local/lib/python3.9/dist-packages (from chex>=0.1.5->optax->flax->whisper-jax==0.0.1) (0.1.8)\n",
            "Requirement already satisfied: toolz>=0.9.0 in /usr/local/lib/python3.9/dist-packages (from chex>=0.1.5->optax->flax->whisper-jax==0.0.1) (0.12.0)\n",
            "Requirement already satisfied: mdurl~=0.1 in /usr/local/lib/python3.9/dist-packages (from markdown-it-py<3.0.0,>=2.2.0->rich>=11.1->flax->whisper-jax==0.0.1) (0.1.2)\n",
            "Requirement already satisfied: zipp>=3.1.0 in /usr/local/lib/python3.9/dist-packages (from importlib_resources->orbax->flax->whisper-jax==0.0.1) (3.15.0)\n",
            "Looking in indexes: https://pypi.org/simple, https://us-python.pkg.dev/colab-wheels/public/simple/\n",
            "Requirement already satisfied: flask-ngrok in /usr/local/lib/python3.9/dist-packages (0.0.25)\n",
            "Requirement already satisfied: requests in /usr/local/lib/python3.9/dist-packages (from flask-ngrok) (2.27.1)\n",
            "Requirement already satisfied: Flask>=0.8 in /usr/local/lib/python3.9/dist-packages (from flask-ngrok) (2.2.3)\n",
            "Requirement already satisfied: click>=8.0 in /usr/local/lib/python3.9/dist-packages (from Flask>=0.8->flask-ngrok) (8.1.3)\n",
            "Requirement already satisfied: Werkzeug>=2.2.2 in /usr/local/lib/python3.9/dist-packages (from Flask>=0.8->flask-ngrok) (2.2.3)\n",
            "Requirement already satisfied: itsdangerous>=2.0 in /usr/local/lib/python3.9/dist-packages (from Flask>=0.8->flask-ngrok) (2.1.2)\n",
            "Requirement already satisfied: importlib-metadata>=3.6.0 in /usr/local/lib/python3.9/dist-packages (from Flask>=0.8->flask-ngrok) (6.4.1)\n",
            "Requirement already satisfied: Jinja2>=3.0 in /usr/local/lib/python3.9/dist-packages (from Flask>=0.8->flask-ngrok) (3.1.2)\n",
            "Requirement already satisfied: idna<4,>=2.5 in /usr/local/lib/python3.9/dist-packages (from requests->flask-ngrok) (3.4)\n",
            "Requirement already satisfied: certifi>=2017.4.17 in /usr/local/lib/python3.9/dist-packages (from requests->flask-ngrok) (2022.12.7)\n",
            "Requirement already satisfied: charset-normalizer~=2.0.0 in /usr/local/lib/python3.9/dist-packages (from requests->flask-ngrok) (2.0.12)\n",
            "Requirement already satisfied: urllib3<1.27,>=1.21.1 in /usr/local/lib/python3.9/dist-packages (from requests->flask-ngrok) (1.26.15)\n",
            "Requirement already satisfied: zipp>=0.5 in /usr/local/lib/python3.9/dist-packages (from importlib-metadata>=3.6.0->Flask>=0.8->flask-ngrok) (3.15.0)\n",
            "Requirement already satisfied: MarkupSafe>=2.0 in /usr/local/lib/python3.9/dist-packages (from Jinja2>=3.0->Flask>=0.8->flask-ngrok) (2.1.2)\n"
          ]
        }
      ]
    },
    {
      "cell_type": "code",
      "source": [
        "# Descarga el archivo\n",
        "!pip install pyngrok\n",
        "\n",
        "\n",
        "# Descarga el archivo\n",
        "!wget https://bin.equinox.io/c/bNyj1mQVY4c/ngrok-v3-stable-linux-amd64.tgz\n",
        "\n",
        "# Descomprime el archivo en la misma ruta\n",
        "!tar -xzf ngrok-v3-stable-linux-amd64.tgz\n",
        "\n",
        "# Elimina el archivo comprimido\n",
        "!rm ngrok-v3-stable-linux-amd64.tgz\n",
        "\n",
        "!/content/ngrok config add-authtoken 2D91FFQtqYkkGgUnospalrROWRd_2aG5upiFWGmQCZqKLqpeG\n"
      ],
      "metadata": {
        "colab": {
          "base_uri": "https://localhost:8080/"
        },
        "id": "R0HyeULnNdU0",
        "outputId": "d05b5231-7a4c-49c2-d2cf-7e6e4c79827d"
      },
      "execution_count": 3,
      "outputs": [
        {
          "output_type": "stream",
          "name": "stdout",
          "text": [
            "Looking in indexes: https://pypi.org/simple, https://us-python.pkg.dev/colab-wheels/public/simple/\n",
            "Requirement already satisfied: pyngrok in /usr/local/lib/python3.9/dist-packages (6.0.0)\n",
            "Requirement already satisfied: PyYAML in /usr/local/lib/python3.9/dist-packages (from pyngrok) (6.0)\n",
            "--2023-04-25 15:40:06--  https://bin.equinox.io/c/bNyj1mQVY4c/ngrok-v3-stable-linux-amd64.tgz\n",
            "Resolving bin.equinox.io (bin.equinox.io)... 54.161.241.46, 52.202.168.65, 54.237.133.81, ...\n",
            "Connecting to bin.equinox.io (bin.equinox.io)|54.161.241.46|:443... connected.\n",
            "HTTP request sent, awaiting response... 200 OK\n",
            "Length: 8379857 (8.0M) [application/octet-stream]\n",
            "Saving to: ‘ngrok-v3-stable-linux-amd64.tgz’\n",
            "\n",
            "ngrok-v3-stable-lin 100%[===================>]   7.99M  45.5MB/s    in 0.2s    \n",
            "\n",
            "2023-04-25 15:40:07 (45.5 MB/s) - ‘ngrok-v3-stable-linux-amd64.tgz’ saved [8379857/8379857]\n",
            "\n",
            "Authtoken saved to configuration file: /root/.ngrok2/ngrok.yml\n"
          ]
        }
      ]
    },
    {
      "cell_type": "code",
      "execution_count": null,
      "metadata": {
        "colab": {
          "base_uri": "https://localhost:8080/"
        },
        "id": "z-tHGNGaHLoN",
        "outputId": "36847aee-c349-4b22-ad91-82a3229774cc"
      },
      "outputs": [
        {
          "output_type": "stream",
          "name": "stderr",
          "text": [
            "WARNING:pyngrok.process.ngrok:t=2023-04-25T16:01:51+0000 lvl=warn msg=\"ngrok config file found at legacy location, move to XDG location\" xdg_path=/root/.config/ngrok/ngrok.yml legacy_path=/root/.ngrok2/ngrok.yml\n"
          ]
        },
        {
          "output_type": "stream",
          "name": "stdout",
          "text": [
            "Ngrok URL: https://46fc-34-86-116-81.ngrok-free.app\n",
            " * Serving Flask app '__main__'\n",
            " * Debug mode: off\n"
          ]
        },
        {
          "output_type": "stream",
          "name": "stderr",
          "text": [
            "INFO:werkzeug:\u001b[31m\u001b[1mWARNING: This is a development server. Do not use it in a production deployment. Use a production WSGI server instead.\u001b[0m\n",
            " * Running on http://127.0.0.1:5000\n",
            "INFO:werkzeug:\u001b[33mPress CTRL+C to quit\u001b[0m\n",
            "INFO:werkzeug:127.0.0.1 - - [25/Apr/2023 16:02:28] \"POST /transcribe HTTP/1.1\" 200 -\n",
            "INFO:werkzeug:127.0.0.1 - - [25/Apr/2023 16:03:00] \"POST /transcribe HTTP/1.1\" 200 -\n"
          ]
        }
      ],
      "source": [
        "from requests.exceptions import Timeout\n",
        "from flask import Flask, jsonify, request\n",
        "import requests\n",
        "from whisper_jax import FlaxWhisperPipline\n",
        "from pyngrok import ngrok, conf\n",
        "\n",
        "\n",
        "\n",
        "# Construct the API client\n",
        "# client = ngrok.Client(\"2D91FFQtqYkkGgUnospalrROWRd_2aG5upiFWGmQCZqKLqpeG\")\n",
        "app = Flask(__name__)\n",
        "conf.API_KEY = \"2D91FFQtqYkkGgUnospalrROWRd_2aG5upiFWGmQCZqKLqpeG\"\n",
        "# instantiate pipeline\n",
        "pipeline = FlaxWhisperPipline(\"openai/whisper-tiny\")\n",
        "\n",
        "# define route to handle POST requests\n",
        "@app.route('/transcribe', methods=['POST'])\n",
        "def transcribe():\n",
        "    # check if request has an audio URL\n",
        "    if 'url' not in request.get_json():\n",
        "        return jsonify({'error': 'Missing URL parameter'}), 400\n",
        "\n",
        "    # download audio file from URL\n",
        "    url = request.get_json()['url']\n",
        "    try:\n",
        "        response = requests.get(url, stream=True)\n",
        "        response.raise_for_status()\n",
        "    except requests.exceptions.RequestException as e:\n",
        "        return jsonify({'error': str(e)}), 400\n",
        "\n",
        "    # save audio file to disk\n",
        "    with open('audio.mp3', 'wb') as f:\n",
        "        for chunk in response.iter_content(chunk_size=512):\n",
        "            if chunk:\n",
        "                f.write(chunk)\n",
        "\n",
        "    # transcribe audio file using pipeline\n",
        "    text = pipeline('./audio.mp3', task=\"transcribe\",return_timestamps=True)\n",
        "\n",
        "    return jsonify({'text': text['text']}), 200\n",
        "\n",
        "if __name__ == '__main__':\n",
        "    public_url = ngrok.connect(5000).public_url\n",
        "    print(f\"Ngrok URL: {public_url}\")\n",
        "    app.run(port=5000)\n"
      ]
    }
  ]
}